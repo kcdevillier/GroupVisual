{
 "cells": [
  {
   "cell_type": "code",
   "execution_count": 17,
   "metadata": {},
   "outputs": [],
   "source": [
    "import pandas as pd\n",
    "from IPython.core.interactiveshell import InteractiveShell\n",
    "InteractiveShell.ast_node_interactivity = \"all\""
   ]
  },
  {
   "cell_type": "code",
   "execution_count": 18,
   "metadata": {},
   "outputs": [
    {
     "data": {
      "text/plain": [
       "1"
      ]
     },
     "execution_count": 18,
     "metadata": {},
     "output_type": "execute_result"
    },
    {
     "data": {
      "text/plain": [
       "2"
      ]
     },
     "execution_count": 18,
     "metadata": {},
     "output_type": "execute_result"
    }
   ],
   "source": [
    "x=1\n",
    "b=2\n",
    "x\n",
    "b\n"
   ]
  },
  {
   "cell_type": "code",
   "execution_count": 273,
   "metadata": {},
   "outputs": [],
   "source": [
    "data = pd.read_json(\"./static/data/B_Project1.json\")"
   ]
  },
  {
   "cell_type": "code",
   "execution_count": 274,
   "metadata": {},
   "outputs": [],
   "source": [
    "data.columns = data.iloc[0]"
   ]
  },
  {
   "cell_type": "code",
   "execution_count": 275,
   "metadata": {},
   "outputs": [],
   "source": [
    "data1 = data.drop([2018, 2017, 2016], axis=1)"
   ]
  },
  {
   "cell_type": "code",
   "execution_count": 276,
   "metadata": {},
   "outputs": [
    {
     "data": {
      "text/html": [
       "<div>\n",
       "<style scoped>\n",
       "    .dataframe tbody tr th:only-of-type {\n",
       "        vertical-align: middle;\n",
       "    }\n",
       "\n",
       "    .dataframe tbody tr th {\n",
       "        vertical-align: top;\n",
       "    }\n",
       "\n",
       "    .dataframe thead th {\n",
       "        text-align: right;\n",
       "    }\n",
       "</style>\n",
       "<table border=\"1\" class=\"dataframe\">\n",
       "  <thead>\n",
       "    <tr style=\"text-align: right;\">\n",
       "      <th>Year</th>\n",
       "      <th>2019</th>\n",
       "      <th>2019</th>\n",
       "      <th>2019</th>\n",
       "      <th>2019</th>\n",
       "      <th>2019</th>\n",
       "      <th>2019</th>\n",
       "      <th>2019</th>\n",
       "      <th>2019</th>\n",
       "      <th>2019</th>\n",
       "      <th>2019</th>\n",
       "      <th>...</th>\n",
       "      <th>2019</th>\n",
       "      <th>2019</th>\n",
       "      <th>2019</th>\n",
       "      <th>2019</th>\n",
       "      <th>2019</th>\n",
       "      <th>2019</th>\n",
       "      <th>2019</th>\n",
       "      <th>2019</th>\n",
       "      <th>2019</th>\n",
       "      <th>2019</th>\n",
       "    </tr>\n",
       "  </thead>\n",
       "  <tbody>\n",
       "    <tr>\n",
       "      <td>Quarter</td>\n",
       "      <td>Q1</td>\n",
       "      <td>Q1</td>\n",
       "      <td>Q1</td>\n",
       "      <td>Q1</td>\n",
       "      <td>Q1</td>\n",
       "      <td>Q1</td>\n",
       "      <td>Q1</td>\n",
       "      <td>Q1</td>\n",
       "      <td>Q1</td>\n",
       "      <td>Q1</td>\n",
       "      <td>...</td>\n",
       "      <td>Q4</td>\n",
       "      <td>Q4</td>\n",
       "      <td>Q4</td>\n",
       "      <td>Q4</td>\n",
       "      <td>Q4</td>\n",
       "      <td>Q4</td>\n",
       "      <td>Q4</td>\n",
       "      <td>Q4</td>\n",
       "      <td>Q4</td>\n",
       "      <td>Q4</td>\n",
       "    </tr>\n",
       "  </tbody>\n",
       "</table>\n",
       "<p>1 rows × 188 columns</p>\n",
       "</div>"
      ],
      "text/plain": [
       "Year    2019 2019 2019 2019 2019 2019 2019 2019 2019 2019  ... 2019 2019 2019  \\\n",
       "Quarter   Q1   Q1   Q1   Q1   Q1   Q1   Q1   Q1   Q1   Q1  ...   Q4   Q4   Q4   \n",
       "\n",
       "Year    2019 2019 2019 2019 2019 2019 2019  \n",
       "Quarter   Q4   Q4   Q4   Q4   Q4   Q4   Q4  \n",
       "\n",
       "[1 rows x 188 columns]"
      ]
     },
     "execution_count": 276,
     "metadata": {},
     "output_type": "execute_result"
    }
   ],
   "source": [
    "data1[data1.index == 'Quarter']"
   ]
  },
  {
   "cell_type": "code",
   "execution_count": 277,
   "metadata": {},
   "outputs": [],
   "source": [
    "data1.reset_index(inplace=True)"
   ]
  },
  {
   "cell_type": "code",
   "execution_count": 278,
   "metadata": {},
   "outputs": [],
   "source": [
    "dataT = data1.transpose()"
   ]
  },
  {
   "cell_type": "code",
   "execution_count": 279,
   "metadata": {},
   "outputs": [
    {
     "data": {
      "text/html": [
       "<div>\n",
       "<style scoped>\n",
       "    .dataframe tbody tr th:only-of-type {\n",
       "        vertical-align: middle;\n",
       "    }\n",
       "\n",
       "    .dataframe tbody tr th {\n",
       "        vertical-align: top;\n",
       "    }\n",
       "\n",
       "    .dataframe thead th {\n",
       "        text-align: right;\n",
       "    }\n",
       "</style>\n",
       "<table border=\"1\" class=\"dataframe\">\n",
       "  <thead>\n",
       "    <tr style=\"text-align: right;\">\n",
       "      <th></th>\n",
       "      <th>0</th>\n",
       "      <th>1</th>\n",
       "      <th>2</th>\n",
       "      <th>3</th>\n",
       "      <th>4</th>\n",
       "      <th>5</th>\n",
       "      <th>6</th>\n",
       "      <th>7</th>\n",
       "    </tr>\n",
       "    <tr>\n",
       "      <th>Year</th>\n",
       "      <th></th>\n",
       "      <th></th>\n",
       "      <th></th>\n",
       "      <th></th>\n",
       "      <th></th>\n",
       "      <th></th>\n",
       "      <th></th>\n",
       "      <th></th>\n",
       "    </tr>\n",
       "  </thead>\n",
       "  <tbody>\n",
       "    <tr>\n",
       "      <td>index</td>\n",
       "      <td>Year</td>\n",
       "      <td>Quarter</td>\n",
       "      <td>State</td>\n",
       "      <td>Colonies</td>\n",
       "      <td>Max Colonies</td>\n",
       "      <td>Lost Colonies</td>\n",
       "      <td>Added Colonies</td>\n",
       "      <td>Renovated Colonies</td>\n",
       "    </tr>\n",
       "    <tr>\n",
       "      <td>2019</td>\n",
       "      <td>2019</td>\n",
       "      <td>Q1</td>\n",
       "      <td>Alabama</td>\n",
       "      <td>7500</td>\n",
       "      <td>7500</td>\n",
       "      <td>820</td>\n",
       "      <td>1200</td>\n",
       "      <td>1500</td>\n",
       "    </tr>\n",
       "    <tr>\n",
       "      <td>2019</td>\n",
       "      <td>2019</td>\n",
       "      <td>Q1</td>\n",
       "      <td>Arizona</td>\n",
       "      <td>25000</td>\n",
       "      <td>26000</td>\n",
       "      <td>6000</td>\n",
       "      <td>810</td>\n",
       "      <td>230</td>\n",
       "    </tr>\n",
       "    <tr>\n",
       "      <td>2019</td>\n",
       "      <td>2019</td>\n",
       "      <td>Q1</td>\n",
       "      <td>Arkansas</td>\n",
       "      <td>22000</td>\n",
       "      <td>22000</td>\n",
       "      <td>7500</td>\n",
       "      <td>540</td>\n",
       "      <td>810</td>\n",
       "    </tr>\n",
       "    <tr>\n",
       "      <td>2019</td>\n",
       "      <td>2019</td>\n",
       "      <td>Q1</td>\n",
       "      <td>California</td>\n",
       "      <td>1.15e+06</td>\n",
       "      <td>1540000</td>\n",
       "      <td>215000</td>\n",
       "      <td>205000</td>\n",
       "      <td>133000</td>\n",
       "    </tr>\n",
       "    <tr>\n",
       "      <td>...</td>\n",
       "      <td>...</td>\n",
       "      <td>...</td>\n",
       "      <td>...</td>\n",
       "      <td>...</td>\n",
       "      <td>...</td>\n",
       "      <td>...</td>\n",
       "      <td>...</td>\n",
       "      <td>...</td>\n",
       "    </tr>\n",
       "    <tr>\n",
       "      <td>2019</td>\n",
       "      <td>2019</td>\n",
       "      <td>Q4</td>\n",
       "      <td>West Virginia</td>\n",
       "      <td>7000</td>\n",
       "      <td>7000</td>\n",
       "      <td>1200</td>\n",
       "      <td>50</td>\n",
       "      <td>70</td>\n",
       "    </tr>\n",
       "    <tr>\n",
       "      <td>2019</td>\n",
       "      <td>2019</td>\n",
       "      <td>Q4</td>\n",
       "      <td>Wisconsin</td>\n",
       "      <td>48000</td>\n",
       "      <td>48000</td>\n",
       "      <td>8500</td>\n",
       "      <td>1600</td>\n",
       "      <td>530</td>\n",
       "    </tr>\n",
       "    <tr>\n",
       "      <td>2019</td>\n",
       "      <td>2019</td>\n",
       "      <td>Q4</td>\n",
       "      <td>Wyoming</td>\n",
       "      <td>30000</td>\n",
       "      <td>32000</td>\n",
       "      <td>2700</td>\n",
       "      <td>220</td>\n",
       "      <td>-</td>\n",
       "    </tr>\n",
       "    <tr>\n",
       "      <td>2019</td>\n",
       "      <td>2019</td>\n",
       "      <td>Q4</td>\n",
       "      <td>Other States</td>\n",
       "      <td>8370</td>\n",
       "      <td>8670</td>\n",
       "      <td>1150</td>\n",
       "      <td>20</td>\n",
       "      <td>500</td>\n",
       "    </tr>\n",
       "    <tr>\n",
       "      <td>2019</td>\n",
       "      <td>2019</td>\n",
       "      <td>Q4</td>\n",
       "      <td>United States</td>\n",
       "      <td>2.86897e+06</td>\n",
       "      <td>(X)</td>\n",
       "      <td>444730</td>\n",
       "      <td>219640</td>\n",
       "      <td>154560</td>\n",
       "    </tr>\n",
       "  </tbody>\n",
       "</table>\n",
       "<p>189 rows × 8 columns</p>\n",
       "</div>"
      ],
      "text/plain": [
       "          0        1              2            3             4              5  \\\n",
       "Year                                                                            \n",
       "index  Year  Quarter          State     Colonies  Max Colonies  Lost Colonies   \n",
       "2019   2019       Q1        Alabama         7500          7500            820   \n",
       "2019   2019       Q1        Arizona        25000         26000           6000   \n",
       "2019   2019       Q1       Arkansas        22000         22000           7500   \n",
       "2019   2019       Q1     California     1.15e+06       1540000         215000   \n",
       "...     ...      ...            ...          ...           ...            ...   \n",
       "2019   2019       Q4  West Virginia         7000          7000           1200   \n",
       "2019   2019       Q4      Wisconsin        48000         48000           8500   \n",
       "2019   2019       Q4        Wyoming        30000         32000           2700   \n",
       "2019   2019       Q4   Other States         8370          8670           1150   \n",
       "2019   2019       Q4  United States  2.86897e+06           (X)         444730   \n",
       "\n",
       "                    6                   7  \n",
       "Year                                       \n",
       "index  Added Colonies  Renovated Colonies  \n",
       "2019             1200                1500  \n",
       "2019              810                 230  \n",
       "2019              540                 810  \n",
       "2019           205000              133000  \n",
       "...               ...                 ...  \n",
       "2019               50                  70  \n",
       "2019             1600                 530  \n",
       "2019              220                   -  \n",
       "2019               20                 500  \n",
       "2019           219640              154560  \n",
       "\n",
       "[189 rows x 8 columns]"
      ]
     },
     "execution_count": 279,
     "metadata": {},
     "output_type": "execute_result"
    }
   ],
   "source": [
    "dataT"
   ]
  },
  {
   "cell_type": "code",
   "execution_count": 280,
   "metadata": {},
   "outputs": [],
   "source": [
    "dataT.columns = dataT.loc['index']"
   ]
  },
  {
   "cell_type": "code",
   "execution_count": 281,
   "metadata": {},
   "outputs": [
    {
     "data": {
      "text/plain": [
       "Year\n",
       "index    Quarter\n",
       "2019          Q1\n",
       "2019          Q1\n",
       "2019          Q1\n",
       "2019          Q1\n",
       "          ...   \n",
       "2019          Q4\n",
       "2019          Q4\n",
       "2019          Q4\n",
       "2019          Q4\n",
       "2019          Q4\n",
       "Name: Quarter, Length: 189, dtype: object"
      ]
     },
     "execution_count": 281,
     "metadata": {},
     "output_type": "execute_result"
    }
   ],
   "source": [
    "dataT['Quarter']"
   ]
  },
  {
   "cell_type": "code",
   "execution_count": 282,
   "metadata": {},
   "outputs": [],
   "source": [
    "new_dict = {}\n",
    "for row in dataT['Quarter'].unique(): \n",
    "    new_dict[row] = dataT[dataT['Quarter'] ==  row]\n",
    "    "
   ]
  },
  {
   "cell_type": "code",
   "execution_count": 283,
   "metadata": {},
   "outputs": [],
   "source": [
    "new = new_dict['Q1']\n",
    "new2 = new_dict['Q2']\n",
    "new3 = new_dict['Q3']\n",
    "new4 = new_dict['Q4']"
   ]
  },
  {
   "cell_type": "code",
   "execution_count": 284,
   "metadata": {},
   "outputs": [],
   "source": [
    "new.fillna(0, inplace=True) \n",
    "new2.fillna(0, inplace=True) \n",
    "new3.fillna(0, inplace=True) \n",
    "new4.fillna(0, inplace=True) "
   ]
  },
  {
   "cell_type": "code",
   "execution_count": 285,
   "metadata": {},
   "outputs": [],
   "source": [
    "new.set_index('State', drop=True, inplace=True)\n",
    "new2.set_index('State', drop=True, inplace=True)\n",
    "new3.set_index('State', drop=True, inplace=True)\n",
    "new4.set_index('State', drop=True, inplace=True)"
   ]
  },
  {
   "cell_type": "code",
   "execution_count": null,
   "metadata": {},
   "outputs": [],
   "source": []
  },
  {
   "cell_type": "code",
   "execution_count": 287,
   "metadata": {},
   "outputs": [],
   "source": [
    "new.drop('Year', axis=1, inplace=True)\n",
    "new2.drop('Year', axis=1, inplace=True)\n",
    "new3.drop('Year', axis=1, inplace=True)\n",
    "new4.drop('Year', axis=1, inplace=True)"
   ]
  },
  {
   "cell_type": "code",
   "execution_count": null,
   "metadata": {},
   "outputs": [],
   "source": []
  },
  {
   "cell_type": "code",
   "execution_count": 291,
   "metadata": {},
   "outputs": [],
   "source": [
    "new.drop(['United States', 'Other States'], axis=0, inplace=True)\n",
    "new2.drop(['United States', 'Other States'], axis=0, inplace=True)\n",
    "new3.drop(['United States', 'Other States'], axis=0, inplace=True)\n",
    "new4.drop(['United States', 'Other States'], axis=0, inplace=True)"
   ]
  },
  {
   "cell_type": "code",
   "execution_count": null,
   "metadata": {},
   "outputs": [],
   "source": []
  },
  {
   "cell_type": "code",
   "execution_count": 292,
   "metadata": {},
   "outputs": [],
   "source": [
    "for col in new.columns:\n",
    "    new.loc[new[col] == '-', col] = 0\n",
    "for col in new2.columns:\n",
    "    new2.loc[new2[col] == '-', col] = 0\n",
    "for col in new3.columns:\n",
    "    new3.loc[new3[col] == '-', col] = 0\n",
    "for col in new4.columns:\n",
    "    new4.loc[new4[col] == '-', col] = 0\n",
    "   "
   ]
  },
  {
   "cell_type": "code",
   "execution_count": null,
   "metadata": {},
   "outputs": [],
   "source": []
  },
  {
   "cell_type": "code",
   "execution_count": 293,
   "metadata": {},
   "outputs": [],
   "source": [
    "new[['Colonies','Max Colonies','Lost Colonies','Added Colonies','Renovated Colonies']] = new[['Colonies','Max Colonies','Lost Colonies','Added Colonies','Renovated Colonies']].apply(pd.to_numeric)\n",
    "new2[['Colonies','Max Colonies','Lost Colonies','Added Colonies','Renovated Colonies']] = new2[['Colonies','Max Colonies','Lost Colonies','Added Colonies','Renovated Colonies']].apply(pd.to_numeric)\n",
    "new3[['Colonies','Max Colonies','Lost Colonies','Added Colonies','Renovated Colonies']] = new3[['Colonies','Max Colonies','Lost Colonies','Added Colonies','Renovated Colonies']].apply(pd.to_numeric)\n",
    "new4[['Colonies','Max Colonies','Lost Colonies','Added Colonies','Renovated Colonies']] = new4[['Colonies','Max Colonies','Lost Colonies','Added Colonies','Renovated Colonies']].apply(pd.to_numeric)"
   ]
  },
  {
   "cell_type": "code",
   "execution_count": 295,
   "metadata": {},
   "outputs": [
    {
     "name": "stderr",
     "output_type": "stream",
     "text": [
      "C:\\Users\\Deepak\\Anaconda\\envs\\PythonData\\lib\\site-packages\\ipykernel_launcher.py:1: SettingWithCopyWarning: \n",
      "A value is trying to be set on a copy of a slice from a DataFrame.\n",
      "Try using .loc[row_indexer,col_indexer] = value instead\n",
      "\n",
      "See the caveats in the documentation: http://pandas.pydata.org/pandas-docs/stable/user_guide/indexing.html#returning-a-view-versus-a-copy\n",
      "  \"\"\"Entry point for launching an IPython kernel.\n",
      "C:\\Users\\Deepak\\Anaconda\\envs\\PythonData\\lib\\site-packages\\ipykernel_launcher.py:2: SettingWithCopyWarning: \n",
      "A value is trying to be set on a copy of a slice from a DataFrame.\n",
      "Try using .loc[row_indexer,col_indexer] = value instead\n",
      "\n",
      "See the caveats in the documentation: http://pandas.pydata.org/pandas-docs/stable/user_guide/indexing.html#returning-a-view-versus-a-copy\n",
      "  \n",
      "C:\\Users\\Deepak\\Anaconda\\envs\\PythonData\\lib\\site-packages\\ipykernel_launcher.py:3: SettingWithCopyWarning: \n",
      "A value is trying to be set on a copy of a slice from a DataFrame.\n",
      "Try using .loc[row_indexer,col_indexer] = value instead\n",
      "\n",
      "See the caveats in the documentation: http://pandas.pydata.org/pandas-docs/stable/user_guide/indexing.html#returning-a-view-versus-a-copy\n",
      "  This is separate from the ipykernel package so we can avoid doing imports until\n",
      "C:\\Users\\Deepak\\Anaconda\\envs\\PythonData\\lib\\site-packages\\ipykernel_launcher.py:4: SettingWithCopyWarning: \n",
      "A value is trying to be set on a copy of a slice from a DataFrame.\n",
      "Try using .loc[row_indexer,col_indexer] = value instead\n",
      "\n",
      "See the caveats in the documentation: http://pandas.pydata.org/pandas-docs/stable/user_guide/indexing.html#returning-a-view-versus-a-copy\n",
      "  after removing the cwd from sys.path.\n",
      "C:\\Users\\Deepak\\Anaconda\\envs\\PythonData\\lib\\site-packages\\ipykernel_launcher.py:5: SettingWithCopyWarning: \n",
      "A value is trying to be set on a copy of a slice from a DataFrame.\n",
      "Try using .loc[row_indexer,col_indexer] = value instead\n",
      "\n",
      "See the caveats in the documentation: http://pandas.pydata.org/pandas-docs/stable/user_guide/indexing.html#returning-a-view-versus-a-copy\n",
      "  \"\"\"\n"
     ]
    }
   ],
   "source": [
    "new['Colonies'] = new['Colonies'] + new2['Colonies'] + new3['Colonies'] + new4['Colonies']\n",
    "new['Max Colonies'] = new['Max Colonies'] + new2['Max Colonies'] + new3['Max Colonies'] + new4['Max Colonies']\n",
    "new['Lost Colonies'] = new['Lost Colonies'] + new2['Lost Colonies'] + new3['Lost Colonies'] + new4['Lost Colonies']\n",
    "new['Added Colonies'] = new['Added Colonies'] + new2['Added Colonies'] + new3['Added Colonies'] + new4['Added Colonies']\n",
    "new['Renovated Colonies'] = new['Renovated Colonies'] + new2['Renovated Colonies'] + new3['Renovated Colonies'] + new4['Renovated Colonies']\n"
   ]
  },
  {
   "cell_type": "code",
   "execution_count": 297,
   "metadata": {},
   "outputs": [],
   "source": [
    "new.to_json(\"./static/data/B_map.json\")"
   ]
  },
  {
   "cell_type": "code",
   "execution_count": 2,
   "metadata": {},
   "outputs": [],
   "source": [
    "json = pd.read_json(\"./static/data/B_map.json\")\n"
   ]
  },
  {
   "cell_type": "code",
   "execution_count": 5,
   "metadata": {},
   "outputs": [],
   "source": [
    "json.drop('Quarter', axis=1, inplace=True)"
   ]
  },
  {
   "cell_type": "code",
   "execution_count": 10,
   "metadata": {},
   "outputs": [],
   "source": []
  },
  {
   "cell_type": "code",
   "execution_count": 14,
   "metadata": {},
   "outputs": [],
   "source": [
    "json.index.name = 'States'"
   ]
  },
  {
   "cell_type": "code",
   "execution_count": 16,
   "metadata": {},
   "outputs": [],
   "source": [
    "json.to_csv(\"./static/data/B_map.csv\", index=\"States\")"
   ]
  },
  {
   "cell_type": "code",
   "execution_count": null,
   "metadata": {},
   "outputs": [],
   "source": []
  }
 ],
 "metadata": {
  "kernelspec": {
   "display_name": "Python 3",
   "language": "python",
   "name": "python3"
  },
  "language_info": {
   "codemirror_mode": {
    "name": "ipython",
    "version": 3
   },
   "file_extension": ".py",
   "mimetype": "text/x-python",
   "name": "python",
   "nbconvert_exporter": "python",
   "pygments_lexer": "ipython3",
   "version": "3.6.9"
  }
 },
 "nbformat": 4,
 "nbformat_minor": 2
}
